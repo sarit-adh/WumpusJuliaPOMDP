{
 "cells": [
  {
   "cell_type": "code",
   "execution_count": 1,
   "metadata": {},
   "outputs": [],
   "source": [
    "using POMDPs\n",
    "import Base: =="
   ]
  },
  {
   "cell_type": "code",
   "execution_count": 2,
   "metadata": {},
   "outputs": [
    {
     "data": {
      "text/plain": [
       "== (generic function with 145 methods)"
      ]
     },
     "execution_count": 2,
     "metadata": {},
     "output_type": "execute_result"
    }
   ],
   "source": [
    "type WorldState\n",
    "    agentLoc_x::Int64\n",
    "    agentLoc_y::Int64\n",
    "    goldLoc_x::Int64\n",
    "    goldLoc_y::Int64\n",
    "    wumpusLoc_x::Int64\n",
    "    wumpusLoc_y::Int64\n",
    "    done::Bool\n",
    "end\n",
    "\n",
    "#Immutables are compared by the value of their fields, whereas mutables\n",
    "#by ===, i.e. whether they are same object in memory.\n",
    "#But can overload ==\n",
    "==(s1::WorldState, s2::WorldState) = s1.agentLoc_x == s2.agentLoc_x && s1.goldLoc_x == s2.goldLoc_x && s1.agentLoc_y == s2.agentLoc_y && s1.goldLoc_y == s2.goldLoc_y && s1.wumpusLoc_x==s2.wumpusLoc_x && s1.wumpusLoc_y==s2.wumpusLoc_y && s1.done==s2.done\n",
    "\n",
    "#posequal(s1::WorldState, s2::WorldState) = s1.agentLoc == s2.agentLoc && s1.goldLoc == s2.goldLoc\n",
    "\n"
   ]
  },
  {
   "cell_type": "code",
   "execution_count": 3,
   "metadata": {},
   "outputs": [
    {
     "data": {
      "text/plain": [
       "adjacent_wumpus (generic function with 1 method)"
      ]
     },
     "execution_count": 3,
     "metadata": {},
     "output_type": "execute_result"
    }
   ],
   "source": [
    "type WumpusPOMDP <: POMDP{WorldState, Symbol, Symbol}\n",
    "    size_x::Int64\n",
    "    size_y::Int64\n",
    "    r_gold::Float64\n",
    "    r_wumpus::Float64\n",
    "    discount_factor::Float64\n",
    "end\n",
    "\n",
    "function WumpusPOMDP()\n",
    "    return WumpusPOMDP(3,3,1000,-1000,0.99)\n",
    "end\n",
    "\n",
    "function colocate_gold(state::WorldState)\n",
    "      return state.agentLoc_x==state.goldLoc_x && state.agentLoc_y==state.goldLoc_y\n",
    "      #return state.agentLoc_x==4 && state.agentLoc_y==4\n",
    "end\n",
    "\n",
    "function colocate_wumpus(state::WorldState)\n",
    "    return state.agentLoc_x==state.wumpusLoc_x && state.agentLoc_y==state.wumpusLoc_y\n",
    "end\n",
    "\n",
    "function adjacent_wumpus(state::WorldState)\n",
    "    if ((state.agentLoc_x == state.wumpusLoc_x-1 && state.agentLoc_y == state.wumpusLoc_y) || (state.agentLoc_x == state.wumpusLoc_x+1 && state.agentLoc_y == state.wumpusLoc_y) || (state.agentLoc_x == state.wumpusLoc_x && state.agentLoc_y == state.wumpusLoc_y-1) || (state.agentLoc_x == state.wumpusLoc_x && state.agentLoc_y == state.wumpusLoc_y+1))\n",
    "        return true\n",
    "    else\n",
    "        return false\n",
    "    end\n",
    "end\n"
   ]
  },
  {
   "cell_type": "code",
   "execution_count": 4,
   "metadata": {},
   "outputs": [
    {
     "name": "stdout",
     "output_type": "stream",
     "text": [
      "truetruetruefalsefalsefalsetruetruefalse"
     ]
    }
   ],
   "source": [
    "#TEST\n",
    "\n",
    "print(colocate_gold(WorldState(1,1,1,1,1,1,false)))\n",
    "print(colocate_gold(WorldState(1,1,1,1,1,1,true)))\n",
    "print(colocate_wumpus(WorldState(1,1,1,1,1,1,true)))\n",
    "\n",
    "print(colocate_gold(WorldState(2,2,2,1,1,1,false)))\n",
    "print(colocate_gold(WorldState(1,1,2,2,1,1,true)))\n",
    "print(colocate_wumpus(WorldState(1,1,1,1,2,2,true)))\n",
    "\n",
    "print(adjacent_wumpus(WorldState(2,2,2,1,1,2,false)))\n",
    "print(adjacent_wumpus(WorldState(1,1,2,2,1,2,true)))\n",
    "print(adjacent_wumpus(WorldState(1,2,1,1,2,1,true)))\n",
    "\n"
   ]
  },
  {
   "cell_type": "code",
   "execution_count": 5,
   "metadata": {},
   "outputs": [],
   "source": [
    "#POMDPs.states(::WumpusPOMDP) = [WorldState(1,1),WorldState(1,2),WorldState(2,1),WorldState(2,2)]    \n",
    "\n",
    "function POMDPs.states(pomdp::WumpusPOMDP)\n",
    "    s = WorldState[]\n",
    "    for agentLoc_x=1:pomdp.size_x,goldLoc_x=1:pomdp.size_x,agentLoc_y=1:pomdp.size_y,goldLoc_y=1:pomdp.size_y,wumpusLoc_x=1:pomdp.size_x,wumpusLoc_y=1:pomdp.size_y,done=0:1\n",
    "        push!(s,WorldState(agentLoc_x,agentLoc_y,goldLoc_x,goldLoc_y,wumpusLoc_x,wumpusLoc_y,done))\n",
    "    end\n",
    "    return s\n",
    "end"
   ]
  },
  {
   "cell_type": "code",
   "execution_count": 6,
   "metadata": {},
   "outputs": [],
   "source": [
    "POMDPs.actions(::WumpusPOMDP) = [:left,:right,:up,:down,:grab]\n",
    "POMDPs.actions(pomdp::WumpusPOMDP,state::WorldState) = POMDPs.actions(pomdp)"
   ]
  },
  {
   "cell_type": "code",
   "execution_count": 7,
   "metadata": {},
   "outputs": [],
   "source": [
    "function POMDPs.action_index(::WumpusPOMDP,a::Symbol)\n",
    "    if a==:left\n",
    "        return 1\n",
    "    elseif a==:right\n",
    "        return 2\n",
    "    elseif a==:up\n",
    "        return 3\n",
    "    elseif a==:down\n",
    "        return 4\n",
    "    elseif a==:grab\n",
    "        return 5\n",
    "    end\n",
    "    error(\"invalid WumpusPOMDP action: $a\")\n",
    "end;"
   ]
  },
  {
   "cell_type": "code",
   "execution_count": 8,
   "metadata": {},
   "outputs": [],
   "source": [
    "POMDPs.observations(::WumpusPOMDP) = [:stench,:glitter,:stenchandglitter,:none];\n",
    "POMDPs.observations(pomdp::WumpusPOMDP,s::WorldState) = POMDPs.observations(pomdp)"
   ]
  },
  {
   "cell_type": "code",
   "execution_count": 9,
   "metadata": {},
   "outputs": [],
   "source": [
    "function POMDPs.obs_index(::WumpusPOMDP,o::Symbol)\n",
    "    if o==:stench\n",
    "        return 1\n",
    "    elseif o==:glitter\n",
    "        return 2\n",
    "    elseif o==:stenchandglitter\n",
    "        return 3\n",
    "    elseif o==:none\n",
    "        return 4\n",
    "    end\n",
    "    error(\"invalid WumpusPOMDP action: $a\")\n",
    "end;"
   ]
  },
  {
   "cell_type": "code",
   "execution_count": 10,
   "metadata": {},
   "outputs": [
    {
     "data": {
      "text/plain": [
       "m_normalize! (generic function with 1 method)"
      ]
     },
     "execution_count": 10,
     "metadata": {},
     "output_type": "execute_result"
    }
   ],
   "source": [
    "function m_normalize!(probabilityVector::Vector{Float64})\n",
    "    probabilityVector[:] =  probabilityVector / sum(probabilityVector)\n",
    "end"
   ]
  },
  {
   "cell_type": "code",
   "execution_count": 11,
   "metadata": {},
   "outputs": [],
   "source": [
    "type WorldStateDistribution\n",
    "    probabilityVector::Vector{Float64}\n",
    "    stateVector::Vector{WorldState}\n",
    "end\n",
    "function WorldStateDistribution(pomdp::WumpusPOMDP)\n",
    "    stateVector = POMDPs.states(pomdp)\n",
    "    probabilityVector = [1. / length(stateVector) for i in 1:length(stateVector) ]\n",
    "    return WorldStateDistribution(probabilityVector,stateVector)\n",
    "end\n",
    "\n",
    "function WorldStateDistribution(pomdp::WumpusPOMDP, agentLoc_x::Int64,agentLoc_y::Int64,done::Bool)\n",
    "    stateVector = POMDPs.states(pomdp)\n",
    "    agentProb = 1. / (pomdp.size_x*pomdp.size_y)\n",
    "    probabilityVector = vec(fill(0.0, 1, length(stateVector)))\n",
    "    for i in 1:length(stateVector)\n",
    "       \n",
    "       if(stateVector[i].done==done && stateVector[i].agentLoc_x == agentLoc_x && stateVector[i].agentLoc_y == agentLoc_y)\n",
    "            probabilityVector[i] = agentProb\n",
    "        end\n",
    "    end\n",
    "    m_normalize!(probabilityVector)\n",
    "    if sum(probabilityVector)==0 print(\"world state distribution 2 sum zero\") end\n",
    "    return WorldStateDistribution(probabilityVector,stateVector)\n",
    "end\n",
    "\n",
    "function WorldStateDistribution(pomdp::WumpusPOMDP, state::WorldState)\n",
    "    stateVector = POMDPs.states(pomdp)\n",
    "    found = false\n",
    "    probabilityVector = vec(fill(0.0, 1, length(stateVector)))\n",
    "    for i in 1:length(stateVector)\n",
    "       if(stateVector[i]==state)\n",
    "            probabilityVector[i] = 1\n",
    "            found = true\n",
    "        end\n",
    "    end\n",
    "    if(!found) print(\"not found\", state) end\n",
    "    #m_normalize!(probabilityVector)\n",
    "        if sum(probabilityVector)==0 print(\"world state distribution 3 sum zero\") end\n",
    "    return WorldStateDistribution(probabilityVector,stateVector)\n",
    "end\n",
    "\n",
    "POMDPs.iterator(d::WorldStateDistribution) = d.stateVector"
   ]
  },
  {
   "cell_type": "code",
   "execution_count": 12,
   "metadata": {},
   "outputs": [],
   "source": [
    "function POMDPs.pdf(d::WorldStateDistribution,state::WorldState)\n",
    "    return d.probabilityVector[findfirst(d.stateVector, state)]\n",
    "end"
   ]
  },
  {
   "cell_type": "code",
   "execution_count": 13,
   "metadata": {},
   "outputs": [],
   "source": [
    "using StatsBase\n",
    "function POMDPs.rand(rng::AbstractRNG, d:: WorldStateDistribution)\n",
    "    return sample(d.stateVector, WeightVec(d.probabilityVector))\n",
    "end"
   ]
  },
  {
   "cell_type": "code",
   "execution_count": 14,
   "metadata": {},
   "outputs": [],
   "source": [
    "function inbounds(pomdp::WumpusPOMDP,agentLoc_x,agentLoc_y)\n",
    "    if 1<=agentLoc_x<=pomdp.size_x && 1<=agentLoc_y<=pomdp.size_y\n",
    "        return true\n",
    "    else\n",
    "        return false\n",
    "    end\n",
    "end\n",
    "\n",
    "inbounds(pomdp::WumpusPOMDP,state::WorldState) = inbounds(pomdp,state.agentLoc_x,state.agentLoc_y);"
   ]
  },
  {
   "cell_type": "code",
   "execution_count": 15,
   "metadata": {},
   "outputs": [],
   "source": [
    "# function POMDPs.transition(pomdp::WumpusPOMDP,state::WorldState, action::Symbol)\n",
    "    \n",
    "#     if state.done\n",
    "#         return WorldStateDistribution(pomdp,state.agentLoc_x,state.agentLoc_y,state.done)\n",
    "#     end\n",
    "    \n",
    "#     if action==:grab && colocate_gold(state)\n",
    "#         return WorldStateDistribution(pomdp,state.agentLoc_x,state.agentLoc_y,true)\n",
    "#     end\n",
    "#     if colocate_wumpus(state)\n",
    "#         return WorldStateDistribution(pomdp,state.agentLoc_x,state.agentLoc_y,true)\n",
    "#     end\n",
    "    \n",
    "#     if action==:left && inbounds(pomdp,state.agentLoc_x-1,state.agentLoc_y)\n",
    "#         return WorldStateDistribution(pomdp,state.agentLoc_x-1,state.agentLoc_y,state.done)\n",
    "#     elseif action==:right && inbounds(pomdp,state.agentLoc_x+1,state.agentLoc_y)\n",
    "#         return WorldStateDistribution(pomdp,state.agentLoc_x+1,state.agentLoc_y,state.done)\n",
    "#     elseif action==:up && inbounds(pomdp,state.agentLoc_x,state.agentLoc_y+1)\n",
    "#         return WorldStateDistribution(pomdp,state.agentLoc_x,state.agentLoc_y+1,state.done)\n",
    "#     elseif action==:down && inbounds(pomdp,state.agentLoc_x,state.agentLoc_y-1)\n",
    "#         return WorldStateDistribution(pomdp,state.agentLoc_x,state.agentLoc_y-1,state.done)\n",
    "#     else\n",
    "#         return WorldStateDistribution(pomdp,state.agentLoc_x,state.agentLoc_y,state.done)\n",
    "#     end\n",
    "# end"
   ]
  },
  {
   "cell_type": "code",
   "execution_count": 16,
   "metadata": {},
   "outputs": [],
   "source": [
    "function POMDPs.transition(p::WumpusPOMDP, state::WorldState, action::Symbol)\n",
    "    #println(\"Transition\")\n",
    "    x = state.agentLoc_x\n",
    "    y = state.agentLoc_y\n",
    "    a = POMDPs.action_index(p,action)\n",
    "    if state.done\n",
    "         return WorldStateDistribution(p,state)\n",
    "     end\n",
    "    \n",
    "      if action==:grab && colocate_gold(state)\n",
    "         tempstate = WorldState(x,y,state.goldLoc_x,state.goldLoc_y,state.wumpusLoc_x,state.wumpusLoc_y,true)\n",
    "         return WorldStateDistribution(p,tempstate)\n",
    "      end\n",
    "     if colocate_wumpus(state)\n",
    "        tempstate = WorldState(x,y,state.goldLoc_x,state.goldLoc_y,state.wumpusLoc_x,state.wumpusLoc_y,true)\n",
    "        return WorldStateDistribution(p,tempstate)\n",
    "     end\n",
    "    \n",
    "    \n",
    "    #The neighbor array represents the possible states to which the\n",
    "    #agent in its current state may transition. The states correspond to \n",
    "    #the integer representation of each action.\n",
    "    neighbor = [\n",
    "        WorldState(x-1,y,state.goldLoc_x,state.goldLoc_y,state.wumpusLoc_x,state.wumpusLoc_y,state.done),  #left\n",
    "        WorldState(x+1,y,state.goldLoc_x,state.goldLoc_y,state.wumpusLoc_x,state.wumpusLoc_y,state.done),  #right\n",
    "        WorldState(x,y+1,state.goldLoc_x,state.goldLoc_y,state.wumpusLoc_x,state.wumpusLoc_y,state.done),  #up\n",
    "        WorldState(x,y-1,state.goldLoc_x,state.goldLoc_y,state.wumpusLoc_x,state.wumpusLoc_y,state.done),   #down\n",
    "        WorldState(x,y,state.goldLoc_x,state.goldLoc_y,state.wumpusLoc_x,state.wumpusLoc_y,state.done)      #original cell\n",
    "    ]\n",
    "    \n",
    "    #The target cell is the location at the index of the appointed action.\n",
    "    target = neighbor[a]\n",
    "    \n",
    "    \n",
    "    #If the target cell is out of bounds, the agent remains in \n",
    "    #the same cell. Otherwise the agent transitions to the target \n",
    "    #cell.\n",
    "    if !inbounds(p,target)\n",
    "        #return SparseCat([state], [1.0])\n",
    "        \n",
    "        return WorldStateDistribution(p,state)\n",
    "    else\n",
    "        #return SparseCat([target], [1.0])\n",
    "        \n",
    "        return WorldStateDistribution(p,target)\n",
    "    end\n",
    "end"
   ]
  },
  {
   "cell_type": "code",
   "execution_count": 17,
   "metadata": {},
   "outputs": [
    {
     "data": {
      "text/plain": [
       "0.0"
      ]
     },
     "execution_count": 17,
     "metadata": {},
     "output_type": "execute_result"
    }
   ],
   "source": [
    "testState = WorldState(1,1,1,2,1,1,false)\n",
    "\n",
    "d = POMDPs.transition(WumpusPOMDP(),testState,:right)\n",
    "d.probabilityVector[findfirst(d.stateVector, WorldState(2,1,2,1,2,1,false))]\n"
   ]
  },
  {
   "cell_type": "code",
   "execution_count": 18,
   "metadata": {},
   "outputs": [],
   "source": [
    "function POMDPs.reward(pomdp::WumpusPOMDP, state::WorldState, action::Symbol)\n",
    "    totalReward = 0.0\n",
    "#     if state.done\n",
    "#          return 0.0\n",
    "    if colocate_wumpus(state)\n",
    "        totalReward+=pomdp.r_wumpus\n",
    "    elseif action==:grab && colocate_gold(state)\n",
    "        totalReward+=pomdp.r_gold\n",
    "#     elseif action==:grab #to prevent agent from going on grab loop\n",
    "#         totalReward-=1000\n",
    "    else\n",
    "        totalReward-=1\n",
    "    end\n",
    "    return totalReward\n",
    "end\n",
    "\n",
    "# function POMDPs.reward(pomdp::WumpusPOMDP, state::WorldState, action::Symbol,statep::WorldState)\n",
    "#     if statep.done\n",
    "#         return 0.0\n",
    "#     else\n",
    "#         return POMDPs.reward(pomdp,state,action)\n",
    "#     end\n",
    "# end\n",
    "\n",
    "#POMDPs.reward(pomdp::WumpusPOMDP, state::WorldState, action::Symbol,statep::WorldState)= POMDPs.reward(pomdp,state,action)"
   ]
  },
  {
   "cell_type": "code",
   "execution_count": 19,
   "metadata": {},
   "outputs": [
    {
     "data": {
      "text/plain": [
       "-1000.0"
      ]
     },
     "execution_count": 19,
     "metadata": {},
     "output_type": "execute_result"
    }
   ],
   "source": [
    "POMDPs.reward(WumpusPOMDP(),WorldState(2, 1, 2, 1, 2, 1, false),:right)"
   ]
  },
  {
   "cell_type": "code",
   "execution_count": 20,
   "metadata": {},
   "outputs": [
    {
     "name": "stdout",
     "output_type": "stream",
     "text": [
      "ObservationDistribution([0.333333, 0.111111, 0.037037, 0.518519], Symbol[:stench, :glitter, :stenchandglitter, :none])"
     ]
    }
   ],
   "source": [
    "type ObservationDistribution\n",
    "    probabilityVector::Vector{Float64}\n",
    "    observationVector::Vector{Symbol}\n",
    "end\n",
    "\n",
    "function ObservationDistribution(pomdp::WumpusPOMDP)\n",
    "    observationVector = POMDPs.observations(pomdp)\n",
    "    total_stenchy_cells = ((pomdp.size_x * pomdp.size_y) - 1)     \n",
    "    num_possible_middle_pit = (pomdp.size_x - 2) * (pomdp.size_y -2)\n",
    "    num_possible_corner_pit = 4 #always 4 , no matter size of grid\n",
    "    num_possible_edge_pit = 2*((pomdp.size_x - 2) + (pomdp.size_y -2))\n",
    "    cells_stenchy_from_edge_pit = 3\n",
    "    cells_stenchy_from_corner_pit = 2\n",
    "    cells_stenchy_from_middle_pit = 4\n",
    "    prob_stench_from_edge_pit = cells_stenchy_from_edge_pit / total_stenchy_cells\n",
    "    prob_stench_from_corner_pit = cells_stenchy_from_corner_pit / total_stenchy_cells\n",
    "    prob_stench_from_middle_pit = cells_stenchy_from_middle_pit / total_stenchy_cells\n",
    "    prob_stench_only = ((prob_stench_from_edge_pit * num_possible_edge_pit) + (prob_stench_from_corner_pit * num_possible_corner_pit) + (prob_stench_from_middle_pit * num_possible_middle_pit))/ (num_possible_middle_pit+num_possible_corner_pit+num_possible_edge_pit)\n",
    "    prob_glitter_only = 1/(pomdp.size_x*pomdp.size_y)\n",
    "    prob_glitter_stench = prob_glitter_only*prob_stench_only\n",
    "    prob_none = 1 - prob_glitter_only - prob_stench_only - prob_glitter_stench\n",
    "        \n",
    "    probabilityVector = [prob_stench_only,prob_glitter_only,prob_glitter_stench,prob_none]\n",
    "    if sum(probabilityVector)==0 print(\"observation distribution sum zero\") end\n",
    "    return ObservationDistribution(probabilityVector,observationVector)\n",
    "    #ObservationDistribution((1/(pomdp.size_x*pomdp.size_y)),[true,false])\n",
    "end\n",
    "\n",
    "    \n",
    "print(ObservationDistribution(WumpusPOMDP()))    "
   ]
  },
  {
   "cell_type": "code",
   "execution_count": 21,
   "metadata": {},
   "outputs": [],
   "source": [
    "function POMDPs.observation(pomdp::WumpusPOMDP,action::Symbol,state::WorldState)   \n",
    "    d = ObservationDistribution(pomdp)\n",
    "    cur_obs = :none\n",
    "    if colocate_gold(state) && adjacent_wumpus(state)\n",
    "        cur_obs = :stenchandglitter\n",
    "    elseif colocate_gold(state)\n",
    "        cur_obs = :glitter\n",
    "    elseif adjacent_wumpus(state)\n",
    "        cur_obs = :stench\n",
    "    end\n",
    "    \n",
    "    d.probabilityVector = vec(fill(0.0, 1, length(d.probabilityVector)))\n",
    "    for ind=1:length(d.observationVector)\n",
    "        if d.observationVector[ind]==cur_obs\n",
    "            d.probabilityVector[ind]=1\n",
    "        end\n",
    "    end\n",
    "    \n",
    "    \n",
    "    m_normalize!(d.probabilityVector)\n",
    "    if sum(d.probabilityVector)==0 print(\"observation function sum zero\") end\n",
    "    return d\n",
    "end\n",
    "\n",
    "POMDPs.iterator(d::ObservationDistribution) = d.observations"
   ]
  },
  {
   "cell_type": "code",
   "execution_count": 22,
   "metadata": {},
   "outputs": [
    {
     "ename": "LoadError",
     "evalue": "\u001b[91msyntax: incomplete: premature end of input\u001b[39m",
     "output_type": "error",
     "traceback": [
      "\u001b[91msyntax: incomplete: premature end of input\u001b[39m",
      ""
     ]
    }
   ],
   "source": [
    "pomdp = WumpusPOMDP()\n",
    "POMDPs.observation(pomdp, :grab, WorldState(1,1,1,1,1,2,false))\n",
    "\n",
    "a = [1,1,0,0,0]\n",
    "if sum(a)==0 print(\"sum zero\")"
   ]
  },
  {
   "cell_type": "code",
   "execution_count": 23,
   "metadata": {},
   "outputs": [],
   "source": [
    "function POMDPs.pdf(d::ObservationDistribution,observation::Symbol)\n",
    "    return d.probabilityVector[findfirst(d.observationVector, observation)]\n",
    "end\n",
    "\n",
    "function POMDPs.rand(rng::AbstractRNG, d::ObservationDistribution)\n",
    "    return sample(d.observationVector, WeightVec(d.probabilityVector))\n",
    "end"
   ]
  },
  {
   "cell_type": "code",
   "execution_count": 24,
   "metadata": {},
   "outputs": [],
   "source": [
    "POMDPs.n_states(pomdp::WumpusPOMDP) = pomdp.size_x*pomdp.size_y*pomdp.size_x*pomdp.size_y*pomdp.size_x*pomdp.size_y*2;\n",
    "POMDPs.n_actions(::WumpusPOMDP) = 5\n",
    "POMDPs.n_observations(::WumpusPOMDP) = 4;\n",
    "POMDPs.discount(pomdp::WumpusPOMDP) = pomdp.discount_factor\n",
    "POMDPs.isterminal(pomdp::WumpusPOMDP, s::WorldState) = s.done"
   ]
  },
  {
   "cell_type": "code",
   "execution_count": 25,
   "metadata": {},
   "outputs": [],
   "source": [
    "POMDPs.initial_state_distribution(pomdp::WumpusPOMDP,start_agentLoc_x,start_agentLoc_y) = WorldStateDistribution(pomdp,start_agentLoc_x,start_agentLoc_y,false)\n",
    "\n",
    "POMDPs.initial_state_distribution(pomdp::WumpusPOMDP) = WorldStateDistribution(pomdp,1,1,false)"
   ]
  },
  {
   "cell_type": "code",
   "execution_count": 26,
   "metadata": {},
   "outputs": [],
   "source": [
    "function POMDPs.state_index(pomdp::WumpusPOMDP,state::WorldState)\n",
    "    sd = Int(state.done + 1)\n",
    "    return sub2ind((pomdp.size_x,pomdp.size_y,pomdp.size_x,pomdp.size_y,pomdp.size_x,pomdp.size_y,2),state.agentLoc_x,state.agentLoc_y,state.goldLoc_x,state.goldLoc_y,state.wumpusLoc_x,state.wumpusLoc_y,sd)\n",
    "end"
   ]
  },
  {
   "cell_type": "code",
   "execution_count": 27,
   "metadata": {},
   "outputs": [
    {
     "ename": "LoadError",
     "evalue": "\u001b[91mUndefVarError: probability_check not defined\u001b[39m",
     "output_type": "error",
     "traceback": [
      "\u001b[91mUndefVarError: probability_check not defined\u001b[39m",
      ""
     ]
    }
   ],
   "source": [
    "pomdp = WumpusPOMDP()\n",
    "probability_check(pomdp) # checks that both observation and transition functions give probs that sum to unity\n",
    "\n",
    "obs_prob_consistency_check(pomdp) # checks the observation probabilities\n",
    "\n",
    "trans_prob_consistency_check(pomdp) # check the transition probabilities\n"
   ]
  },
  {
   "cell_type": "code",
   "execution_count": 28,
   "metadata": {},
   "outputs": [],
   "source": [
    "#JUST FOR TEST, CAN ESCAPE\n",
    "# pomdp = WumpusPOMDP()\n",
    "\n",
    "# worldDistribution = WorldStateDistribution(pomdp)\n",
    "# print(\"\\nstates:\")\n",
    "# POMDPs.states(pomdp)\n",
    "# rng = MersenneTwister(1234)\n",
    "# rand_state = POMDPs.rand(rng,worldDistribution) #sample random state\n",
    "# print(\"\\n\")\n",
    "# print(rand_state) \n",
    "# print(\"\\n\")\n",
    "# #print(POMDPs.transition(pomdp,rand_state,:left)) #move right from random state and see distribution of probabilities\n",
    "# print(\"\\n\")\n",
    "# print(POMDPs.reward(pomdp,WorldState(1,1,1,1),:grab))\n",
    "# POMDPs.observation(pomdp,:right,WorldState(1,2,1,1))"
   ]
  },
  {
   "cell_type": "code",
   "execution_count": 29,
   "metadata": {},
   "outputs": [],
   "source": [
    "# pomdp = WumpusPOMDP()\n",
    "# sim(pomdp, WorldState(1,1,2,1,1,2,false), max_steps=10) do s\n",
    "#     println(\"state is: $s\")\n",
    "#     a = :right\n",
    "#     println(\"moving $a\")\n",
    "#     return a\n",
    "# end;\n"
   ]
  },
  {
   "cell_type": "code",
   "execution_count": 30,
   "metadata": {},
   "outputs": [],
   "source": [
    "# pomdp = WumpusPOMDP()\n",
    "# policy = RandomPolicy(pomdp)\n",
    "\n",
    "# for (s, a, o, r,sp) in stepthrough(pomdp, policy, \"s,a,o,r,sp\", max_steps=10)\n",
    "#     println(\"in state $s\")\n",
    "#     println(\"took action $a\")\n",
    "#     println(\"received observation $o and reward $r\")\n",
    "#     println(\"ended up in state $sp\")\n",
    "# end"
   ]
  },
  {
   "cell_type": "code",
   "execution_count": 31,
   "metadata": {},
   "outputs": [
    {
     "name": "stdout",
     "output_type": "stream",
     "text": [
      "Generating a pomdpx file: model.pomdpx\n",
      "\n",
      "Loading the model ...\n",
      "  input file   : model.pomdpx\n",
      "  loading time : 1.93s \n",
      "\n",
      "SARSOP initializing ...\n",
      "  initialization time : 0.46s\n",
      "\n",
      "-------------------------------------------------------------------------------\n",
      " Time   |#Trial |#Backup |LBound    |UBound    |Precision  |#Alphas |#Beliefs  \n",
      "-------------------------------------------------------------------------------\n",
      " 0.46    0       0        -1313.58   66299      67612.5     5        1        \n",
      " 0.47    1       50       28184.4    65241.5    37057.1     50       8        \n",
      " 0.47    1       100      28184.4    65241.5    37057.1     100      8        \n",
      " 0.49    2       239      28184.4    50381.6    22197.2     239      8        \n",
      " 0.49    2       240      28184.4    50381.6    22197.2     240      9        \n",
      " 0.49    3       253      35050.1    50147.2    15097.1     253      13       \n",
      " 0.51    7       300      46152.3    49886.2    3733.88     293      27       \n",
      " 0.51    7       350      46152.3    49886.2    3733.88     343      27       \n",
      " 0.53    7       400      46152.3    49886.2    3733.88     393      27       \n",
      " 0.55    8       527      46152.3    48258.9    2106.62     520      27       \n",
      " 0.55    8       528      46152.3    48258.9    2106.62     521      27       \n",
      " 0.56    10      553      47540.8    48210.5    669.664     546      36       \n",
      " 0.58    14      600      47665.7    48143.9    478.135     580      47       \n",
      " 0.61    14      650      47665.7    48143.9    478.135     626      47       \n",
      " 0.66    15      797      47665.7    47986.4    320.648     773      47       \n",
      " 0.66    15      798      47665.7    47986.4    320.648     774      47       \n",
      " 0.66    15      800      47665.7    47986.4    320.648     776      48       \n",
      " 0.68    19      850      47755.8    47939.6    183.763     826      60       \n",
      " 0.73    23      900      47755.8    47916.7    160.842     851      73       \n",
      " 0.75    28      953      47801.2    47892.8    91.6131     904      81       \n",
      " 0.8     33      1003     47801.2    47848.1    46.9273     924      89       \n",
      " 0.84    33      1050     47801.2    47848.1    46.9273     952      89       \n",
      " 0.85    33      1100     47801.2    47848.1    46.9273     1002     89       \n",
      " 0.93    34      1235     47801.2    47826.9    25.7036     1137     89       \n",
      " 0.93    34      1236     47801.2    47826.9    25.7036     1138     89       \n",
      " 0.94    36      1251     47801.2    47826.2    25.0019     1153     91       \n",
      " 0.96    41      1300     47823.2    47825.5    2.30934     1202     96       \n",
      " 1.03    41      1350     47823.2    47825.5    2.30934     1214     96       \n",
      " 1.04    41      1400     47823.2    47825.5    2.30934     1264     96       \n",
      " 1.06    42      1450     47823.2    47825.5    2.30934     1314     96       \n",
      " 1.21    42      1601     47823.2    47823.3    0.112564    1465     96       \n",
      " 1.21    42      1602     47823.2    47823.3    0.112564    1466     96       \n",
      " 1.21    42      1603     47823.2    47823.3    0.112564    1467     96       \n",
      " 1.24    42      1650     47823.2    47823.3    0.112564    1514     96       \n",
      " 1.26    42      1700     47823.2    47823.3    0.112564    1564     96       \n",
      " 1.37    42      1750     47823.2    47823.3    0.112564    1614     96       \n",
      " 1.44    43      1901     47823.2    47823.2    0.00601945  1765     96       \n",
      " 1.44    43      1902     47823.2    47823.2    0.00601945  1766     96       \n",
      " 1.44    43      1903     47823.2    47823.2    0.00601945  1767     96       \n",
      " 1.59    43      1950     47823.2    47823.2    0.00601945  1814     96       \n",
      " 1.62    43      2000     47823.2    47823.2    0.00601945  1864     96       \n",
      " 1.89    44      2195     47823.2    47823.2    0.000758125 2059     96       \n",
      " 1.89    44      2195     47823.2    47823.2    0.000758125 2059     96       \n",
      "-------------------------------------------------------------------------------\n",
      "\n",
      "SARSOP finishing ...\n",
      "  target precision reached\n",
      "  target precision  : 0.001000\n",
      "  precision reached : 0.000758 \n",
      "\n",
      "-------------------------------------------------------------------------------\n",
      " Time   |#Trial |#Backup |LBound    |UBound    |Precision  |#Alphas |#Beliefs  \n",
      "-------------------------------------------------------------------------------\n",
      " 2.05    44      2195     47823.2    47823.2    0.000758125 2059     96       \n",
      "-------------------------------------------------------------------------------\n",
      "\n",
      "Writing out policy ...\n",
      "  output file : out.policy\n",
      "\n"
     ]
    },
    {
     "data": {
      "text/plain": [
       "SARSOP.POMDPPolicy(\"out.policy\", POMDPXFiles.POMDPAlphas([-100000.0 -100000.0 … -100000.0 -100000.0; -100.0 -100.0 … -99001.0 -98012.0; … ; -100.0 -100.0 … -100.0 -100.0; -100000.0 -100000.0 … -100000.0 -100000.0], [4, 1, 2, 0, 0, 2, 0, 1, 3, 3  …  0, 0, 0, 0, 0, 0, 0, 0, 0, 4]), WumpusPOMDP(3, 3, 1000.0, -1000.0, 0.99), Any[:left, :right, :up, :down, :grab])"
      ]
     },
     "execution_count": 31,
     "metadata": {},
     "output_type": "execute_result"
    }
   ],
   "source": [
    "using SARSOP\n",
    "#initialize the Wumpus POMDP\n",
    "pomdp =WumpusPOMDP()\n",
    "\n",
    "#initialize the solver\n",
    "solver = SARSOPSolver()\n",
    "\n",
    "#run the solve function\n",
    "policy = solve(solver,pomdp)\n"
   ]
  },
  {
   "cell_type": "code",
   "execution_count": 32,
   "metadata": {},
   "outputs": [
    {
     "data": {
      "text/plain": [
       "1458×2059 Array{Float64,2}:\n",
       " -100000.0  -100000.0  -100000.0  -100000.0  …  -100000.0    -100000.0  \n",
       "    -100.0     -100.0     -100.0   -99001.0      -99001.0     -98012.0  \n",
       "    -100.0     -100.0     -100.0     -100.0      -98012.0     -88649.8  \n",
       "    -100.0     -100.0     -100.0     -100.0        -100.001     -100.001\n",
       "    -100.0     -100.0     -100.0     -100.0        -100.001   -88649.8  \n",
       "    -100.0     -100.0     -100.0     -100.0  …     -100.001   -88649.8  \n",
       "    -100.0     -100.0     -100.0     -100.0       -4759.08    -88649.8  \n",
       "    -100.0     -100.0     -100.0     -100.0       -4759.08    -88649.8  \n",
       "    -100.0     -100.0     -100.0     -100.0       -4759.08    -88649.8  \n",
       " -100000.0  -100000.0  -100000.0  -100000.0     -100000.0    -100000.0  \n",
       "  100000.0     -100.0     -100.0   -99001.0  …   -99001.0     100000.0  \n",
       "    -100.0     -100.0     -100.0    98999.0      -98012.0     -88649.8  \n",
       "    -100.0     -100.0     -100.0     -100.0        -100.001     -100.001\n",
       "       ⋮                                     ⋱                          \n",
       "    -100.0     -100.0     -100.0     -100.0        -100.0       -100.0  \n",
       "  100000.0    98999.0    98999.0    98999.0        5166.79    100000.0  \n",
       " -100000.0  -100000.0  -100000.0  -100000.0     -100000.0    -100000.0  \n",
       "    -100.0     -100.0     -100.0     -100.0        -100.0       -100.0  \n",
       "    -100.0     -100.0     -100.0     -100.0  …     -100.0       -100.0  \n",
       "    -100.0     -100.0     -100.0     -100.0        -100.0       -100.0  \n",
       "    -100.0     -100.0     -100.0     -100.0        -100.0       -100.0  \n",
       "    -100.0     -100.0     -100.0     -100.0        -100.0       -100.0  \n",
       "    -100.0     -100.0     -100.0     -100.0        -100.0       -100.0  \n",
       "    -100.0     -100.0     -100.0     -100.0  …     -100.0       -100.0  \n",
       "    -100.0     -100.0     -100.0     -100.0        -100.0       -100.0  \n",
       " -100000.0  -100000.0  -100000.0  -100000.0     -100000.0    -100000.0  "
      ]
     },
     "execution_count": 32,
     "metadata": {},
     "output_type": "execute_result"
    }
   ],
   "source": [
    "alphas(policy)"
   ]
  },
  {
   "cell_type": "code",
   "execution_count": 33,
   "metadata": {},
   "outputs": [
    {
     "name": "stdout",
     "output_type": "stream",
     "text": [
      "In state: WorldState(1, 1, 3, 3, 1, 3, false), took action: grab,ended up in state WorldState(1, 1, 3, 3, 1, 3, false) with observation: none\n",
      "-1.0\n",
      "In state: WorldState(1, 1, 3, 3, 1, 3, false), took action: right,ended up in state WorldState(2, 1, 3, 3, 1, 3, false) with observation: none\n",
      "-1.0\n",
      "In state: WorldState(2, 1, 3, 3, 1, 3, false), took action: right,ended up in state WorldState(3, 1, 3, 3, 1, 3, false) with observation: none\n",
      "-1.0\n",
      "In state: WorldState(3, 1, 3, 3, 1, 3, false), took action: up,ended up in state WorldState(3, 2, 3, 3, 1, 3, false) with observation: none\n",
      "-1.0\n",
      "In state: WorldState(3, 2, 3, 3, 1, 3, false), took action: up,ended up in state WorldState(3, 3, 3, 3, 1, 3, false) with observation: glitter\n",
      "-1.0\n",
      "In state: WorldState(3, 3, 3, 3, 1, 3, false), took action: grab,ended up in state WorldState(3, 3, 3, 3, 1, 3, true) with observation: glitter\n",
      "1000.0\n",
      "Total reward: 946.0890548899999\n"
     ]
    }
   ],
   "source": [
    "using POMDPToolbox\n",
    "pomdp = WumpusPOMDP()\n",
    "init_dist = initial_state_distribution(pomdp,1,1) #starting from 1,1\n",
    "up = updater(policy) # belief updater for our policy\n",
    "hist = HistoryRecorder(max_steps=14, rng=MersenneTwister(1)) # history recorder that keeps track of states, observations and beliefs\n",
    "\n",
    "hist = simulate(hist, pomdp,policy, up, init_dist)\n",
    "\n",
    "for (s, b, a, r, sp, op) in hist\n",
    "    println(\"In state: $s, took action: $a,ended up in state $sp with observation: $op\")\n",
    "    println(\"$r\")\n",
    "end\n",
    "println(\"Total reward: $(discounted_reward(hist))\")"
   ]
  },
  {
   "cell_type": "code",
   "execution_count": 34,
   "metadata": {},
   "outputs": [
    {
     "name": "stdout",
     "output_type": "stream",
     "text": [
      "Generating a pomdpx file: model.pomdpx\n"
     ]
    },
    {
     "name": "stderr",
     "output_type": "stream",
     "text": [
      "\u001b[1m\u001b[36mINFO: \u001b[39m\u001b[22m\u001b[36mPkg operations are not possible on JuliaBox. Please use the \"Packages\" menu at the top of the main screen.\n",
      "\u001b[39mWARNING: Method definition polgraph(SARSOP.PolicyGraphGenerator, SARSOP.SARSOPFile, SARSOP.SARSOPPolicy) in module SARSOP at /mnt/juliabox/.julia/v0.6/SARSOP/src/graph.jl:39 overwritten in module Main at In[34]:9.\n"
     ]
    },
    {
     "ename": "LoadError",
     "evalue": "\u001b[91mcould not spawn `nothing model.pomdpx --policy-file out.policy --policy-graph Grid.dot`: no such file or directory (ENOENT)\u001b[39m",
     "output_type": "error",
     "traceback": [
      "\u001b[91mcould not spawn `nothing model.pomdpx --policy-file out.policy --policy-graph Grid.dot`: no such file or directory (ENOENT)\u001b[39m",
      "",
      "Stacktrace:",
      " [1] \u001b[1m_jl_spawn\u001b[22m\u001b[22m\u001b[1m(\u001b[22m\u001b[22m::String, ::Array{String,1}, ::Ptr{Void}, ::Base.Process, ::RawFD, ::RawFD, ::RawFD\u001b[1m)\u001b[22m\u001b[22m at \u001b[1m./process.jl:360\u001b[22m\u001b[22m",
      " [2] \u001b[1m#374\u001b[22m\u001b[22m at \u001b[1m./process.jl:512\u001b[22m\u001b[22m [inlined]",
      " [3] \u001b[1msetup_stdio\u001b[22m\u001b[22m\u001b[1m(\u001b[22m\u001b[22m::Base.##374#375{Cmd}, ::Tuple{RawFD,RawFD,RawFD}\u001b[1m)\u001b[22m\u001b[22m at \u001b[1m./process.jl:499\u001b[22m\u001b[22m",
      " [4] \u001b[1m#spawn#373\u001b[22m\u001b[22m\u001b[1m(\u001b[22m\u001b[22m::Nullable{Base.ProcessChain}, ::Function, ::Cmd, ::Tuple{RawFD,RawFD,RawFD}\u001b[1m)\u001b[22m\u001b[22m at \u001b[1m./process.jl:511\u001b[22m\u001b[22m",
      " [5] \u001b[1mrun\u001b[22m\u001b[22m\u001b[1m(\u001b[22m\u001b[22m::Cmd\u001b[1m)\u001b[22m\u001b[22m at \u001b[1m./process.jl:650\u001b[22m\u001b[22m",
      " [6] \u001b[1mpolgraph\u001b[22m\u001b[22m\u001b[1m(\u001b[22m\u001b[22m::SARSOP.PolicyGraphGenerator, ::SARSOP.POMDPFile, ::SARSOP.POMDPPolicy\u001b[1m)\u001b[22m\u001b[22m at \u001b[1m./In[34]:10\u001b[22m\u001b[22m"
     ]
    }
   ],
   "source": [
    "pomdp = POMDPFile(pomdp, \"model.pomdpx\")\n",
    "\n",
    "import SARSOP.polgraph\n",
    "import SARSOP.PolicyGraphGenerator\n",
    "import SARSOP._get_options_list\n",
    "const EXEC_POLICY_GRAPH_GENERATOR = Pkg.dir(\"SARSOP\", \"deps\", \"polgraph\")\n",
    "graphgen = PolicyGraphGenerator(\"Grid.dot\")\n",
    "function polgraph(graphgen::PolicyGraphGenerator, pomdp::SARSOPFile, policy::SARSOPPolicy)\n",
    "    options_list = _get_options_list(graphgen.options)\n",
    "    run(`$EXEC_POLICY_GRAPH_GENERATOR $(pomdp.filename) --policy-file $(policy.filename) $options_list`)\n",
    "end\n",
    "polgraph(graphgen, pomdp, policy)"
   ]
  }
 ],
 "metadata": {
  "kernelspec": {
   "display_name": "Julia 0.6.2",
   "language": "julia",
   "name": "julia-0.6"
  },
  "language_info": {
   "file_extension": ".jl",
   "mimetype": "application/julia",
   "name": "julia",
   "version": "0.6.2"
  }
 },
 "nbformat": 4,
 "nbformat_minor": 2
}
